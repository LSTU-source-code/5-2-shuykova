{
 "cells": [
  {
   "cell_type": "markdown",
   "id": "a44c9ea9",
   "metadata": {},
   "source": [
    "# Анализ данных: линейная регрессия и кластеризация"
   ]
  },
  {
   "cell_type": "code",
   "execution_count": null,
   "id": "0dc4ded9",
   "metadata": {},
   "outputs": [],
   "source": [
    "import pandas as pd\n",
    "import numpy as np\n",
    "import matplotlib.pyplot as plt\n",
    "import seaborn as sns\n",
    "from sklearn.linear_model import LinearRegression\n",
    "from sklearn.cluster import KMeans\n",
    "from sklearn.preprocessing import StandardScaler\n",
    "\n",
    "# Загрузка данных\n",
    "df = pd.read_csv(\"generated_data.csv\")\n",
    "df.head()\n"
   ]
  },
  {
   "cell_type": "markdown",
   "id": "0ef32f58",
   "metadata": {},
   "source": [
    "## Линейная регрессия"
   ]
  },
  {
   "cell_type": "code",
   "execution_count": null,
   "id": "a7cb0147",
   "metadata": {},
   "outputs": [],
   "source": [
    "features = df.drop(columns='target')\n",
    "target = df['target']\n",
    "\n",
    "model = LinearRegression()\n",
    "model.fit(features, target)\n",
    "df['prediction'] = model.predict(features)\n",
    "\n",
    "plt.figure(figsize=(10, 6))\n",
    "plt.scatter(df['target'], df['prediction'], alpha=0.6)\n",
    "plt.xlabel('Настоящее значение (target)')\n",
    "plt.ylabel('Предсказанное значение (prediction)')\n",
    "plt.title('Сравнение настоящих и предсказанных значений')\n",
    "plt.grid()\n",
    "plt.show()\n"
   ]
  },
  {
   "cell_type": "markdown",
   "id": "1ee794e3",
   "metadata": {},
   "source": [
    "## Кластеризация методом k-средних"
   ]
  },
  {
   "cell_type": "code",
   "execution_count": null,
   "id": "b44c278c",
   "metadata": {},
   "outputs": [],
   "source": [
    "scaler = StandardScaler()\n",
    "X_scaled = scaler.fit_transform(features)\n",
    "\n",
    "kmeans = KMeans(n_clusters=3, random_state=42)\n",
    "df['cluster'] = kmeans.fit_predict(X_scaled)\n",
    "\n",
    "plt.figure(figsize=(10, 6))\n",
    "sns.scatterplot(data=df, x='feature_1', y='feature_2', hue='cluster', palette='Set1')\n",
    "plt.title('Кластеры по первым двум признакам')\n",
    "plt.grid()\n",
    "plt.show()\n"
   ]
  },
  {
   "cell_type": "markdown",
   "id": "a0284f73",
   "metadata": {},
   "source": [
    "### Выводы:\n",
    "- Линейная регрессия позволяет предсказывать значения целевой переменной на основе признаков.\n",
    "- Кластеризация выявляет скрытые группы в данных.\n",
    "- Метод k-средних разделил данные на 3 кластера."
   ]
  }
 ],
 "metadata": {},
 "nbformat": 4,
 "nbformat_minor": 5
}
